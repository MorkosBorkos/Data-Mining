{
 "cells": [
  {
   "cell_type": "code",
   "execution_count": 1,
   "metadata": {},
   "outputs": [],
   "source": [
    "import pandas as pd\n",
    "import os\n",
    "import matplotlib.pyplot as plt\n",
    "from sklearn.model_selection import train_test_split\n",
    "from sklearn.ensemble import RandomForestClassifier"
   ]
  },
  {
   "cell_type": "code",
   "execution_count": 2,
   "metadata": {},
   "outputs": [],
   "source": [
    "folder_path = r'harth' # folder path where all the files are stored\n",
    "all_files = os.listdir(folder_path) # list of all files in the folder\n",
    "df_list = [] # list to store all the dataframes\n",
    "for file in all_files:\n",
    "    df = pd.read_csv(folder_path + '/' + file) # read the file\n",
    "    df_list.append(df) \n",
    "df = pd.concat(df_list) # concatenate all the dataframes"
   ]
  },
  {
   "cell_type": "markdown",
   "metadata": {},
   "source": [
    "Μεχρί εδώ ενσωματώσαμε τα δεδομένα μας σε ένα ενιαίο dataframe για να μπορέσουμε να δουλέψουμε ευκολότερα.\n",
    "Τρέχοντας την εντολή df.describe() λαμβάνουμε μια γενική ιδέα του dataframe αυτού και με το df.count() μπορούμε να δούμε το πλήθος της κάθε στήλης του dataframe μας."
   ]
  },
  {
   "cell_type": "code",
   "execution_count": 3,
   "metadata": {},
   "outputs": [
    {
     "data": {
      "text/html": [
       "<div>\n",
       "<style scoped>\n",
       "    .dataframe tbody tr th:only-of-type {\n",
       "        vertical-align: middle;\n",
       "    }\n",
       "\n",
       "    .dataframe tbody tr th {\n",
       "        vertical-align: top;\n",
       "    }\n",
       "\n",
       "    .dataframe thead th {\n",
       "        text-align: right;\n",
       "    }\n",
       "</style>\n",
       "<table border=\"1\" class=\"dataframe\">\n",
       "  <thead>\n",
       "    <tr style=\"text-align: right;\">\n",
       "      <th></th>\n",
       "      <th>back_x</th>\n",
       "      <th>back_y</th>\n",
       "      <th>back_z</th>\n",
       "      <th>thigh_x</th>\n",
       "      <th>thigh_y</th>\n",
       "      <th>thigh_z</th>\n",
       "      <th>label</th>\n",
       "      <th>index</th>\n",
       "      <th>Unnamed: 0</th>\n",
       "    </tr>\n",
       "  </thead>\n",
       "  <tbody>\n",
       "    <tr>\n",
       "      <th>count</th>\n",
       "      <td>6.461328e+06</td>\n",
       "      <td>6.461328e+06</td>\n",
       "      <td>6.461328e+06</td>\n",
       "      <td>6.461328e+06</td>\n",
       "      <td>6.461328e+06</td>\n",
       "      <td>6.461328e+06</td>\n",
       "      <td>6.461328e+06</td>\n",
       "      <td>720639.000000</td>\n",
       "      <td>137646.000000</td>\n",
       "    </tr>\n",
       "    <tr>\n",
       "      <th>mean</th>\n",
       "      <td>-8.849574e-01</td>\n",
       "      <td>-1.326128e-02</td>\n",
       "      <td>-1.693779e-01</td>\n",
       "      <td>-5.948883e-01</td>\n",
       "      <td>2.087665e-02</td>\n",
       "      <td>3.749160e-01</td>\n",
       "      <td>6.783833e+00</td>\n",
       "      <td>195407.155799</td>\n",
       "      <td>68822.500000</td>\n",
       "    </tr>\n",
       "    <tr>\n",
       "      <th>std</th>\n",
       "      <td>3.775916e-01</td>\n",
       "      <td>2.311709e-01</td>\n",
       "      <td>3.647385e-01</td>\n",
       "      <td>6.263466e-01</td>\n",
       "      <td>3.884511e-01</td>\n",
       "      <td>7.360983e-01</td>\n",
       "      <td>1.143238e+01</td>\n",
       "      <td>111591.198157</td>\n",
       "      <td>39735.121914</td>\n",
       "    </tr>\n",
       "    <tr>\n",
       "      <th>min</th>\n",
       "      <td>-8.000000e+00</td>\n",
       "      <td>-4.307617e+00</td>\n",
       "      <td>-6.574463e+00</td>\n",
       "      <td>-8.000000e+00</td>\n",
       "      <td>-7.997314e+00</td>\n",
       "      <td>-8.000000e+00</td>\n",
       "      <td>1.000000e+00</td>\n",
       "      <td>0.000000</td>\n",
       "      <td>0.000000</td>\n",
       "    </tr>\n",
       "    <tr>\n",
       "      <th>25%</th>\n",
       "      <td>-1.002393e+00</td>\n",
       "      <td>-8.312914e-02</td>\n",
       "      <td>-3.720700e-01</td>\n",
       "      <td>-9.742110e-01</td>\n",
       "      <td>-1.000873e-01</td>\n",
       "      <td>-1.557138e-01</td>\n",
       "      <td>3.000000e+00</td>\n",
       "      <td>100151.000000</td>\n",
       "      <td>34411.250000</td>\n",
       "    </tr>\n",
       "    <tr>\n",
       "      <th>50%</th>\n",
       "      <td>-9.748998e-01</td>\n",
       "      <td>2.593677e-03</td>\n",
       "      <td>-1.374510e-01</td>\n",
       "      <td>-4.217309e-01</td>\n",
       "      <td>3.262909e-02</td>\n",
       "      <td>7.004390e-01</td>\n",
       "      <td>7.000000e+00</td>\n",
       "      <td>191640.000000</td>\n",
       "      <td>68822.500000</td>\n",
       "    </tr>\n",
       "    <tr>\n",
       "      <th>75%</th>\n",
       "      <td>-8.123032e-01</td>\n",
       "      <td>7.251000e-02</td>\n",
       "      <td>4.647321e-02</td>\n",
       "      <td>-1.678755e-01</td>\n",
       "      <td>1.549512e-01</td>\n",
       "      <td>9.486747e-01</td>\n",
       "      <td>7.000000e+00</td>\n",
       "      <td>285446.000000</td>\n",
       "      <td>103233.750000</td>\n",
       "    </tr>\n",
       "    <tr>\n",
       "      <th>max</th>\n",
       "      <td>2.291708e+00</td>\n",
       "      <td>6.491943e+00</td>\n",
       "      <td>4.909483e+00</td>\n",
       "      <td>7.999756e+00</td>\n",
       "      <td>7.999756e+00</td>\n",
       "      <td>8.406235e+00</td>\n",
       "      <td>1.400000e+02</td>\n",
       "      <td>424173.000000</td>\n",
       "      <td>137645.000000</td>\n",
       "    </tr>\n",
       "  </tbody>\n",
       "</table>\n",
       "</div>"
      ],
      "text/plain": [
       "             back_x        back_y        back_z       thigh_x       thigh_y   \n",
       "count  6.461328e+06  6.461328e+06  6.461328e+06  6.461328e+06  6.461328e+06  \\\n",
       "mean  -8.849574e-01 -1.326128e-02 -1.693779e-01 -5.948883e-01  2.087665e-02   \n",
       "std    3.775916e-01  2.311709e-01  3.647385e-01  6.263466e-01  3.884511e-01   \n",
       "min   -8.000000e+00 -4.307617e+00 -6.574463e+00 -8.000000e+00 -7.997314e+00   \n",
       "25%   -1.002393e+00 -8.312914e-02 -3.720700e-01 -9.742110e-01 -1.000873e-01   \n",
       "50%   -9.748998e-01  2.593677e-03 -1.374510e-01 -4.217309e-01  3.262909e-02   \n",
       "75%   -8.123032e-01  7.251000e-02  4.647321e-02 -1.678755e-01  1.549512e-01   \n",
       "max    2.291708e+00  6.491943e+00  4.909483e+00  7.999756e+00  7.999756e+00   \n",
       "\n",
       "            thigh_z         label          index     Unnamed: 0  \n",
       "count  6.461328e+06  6.461328e+06  720639.000000  137646.000000  \n",
       "mean   3.749160e-01  6.783833e+00  195407.155799   68822.500000  \n",
       "std    7.360983e-01  1.143238e+01  111591.198157   39735.121914  \n",
       "min   -8.000000e+00  1.000000e+00       0.000000       0.000000  \n",
       "25%   -1.557138e-01  3.000000e+00  100151.000000   34411.250000  \n",
       "50%    7.004390e-01  7.000000e+00  191640.000000   68822.500000  \n",
       "75%    9.486747e-01  7.000000e+00  285446.000000  103233.750000  \n",
       "max    8.406235e+00  1.400000e+02  424173.000000  137645.000000  "
      ]
     },
     "execution_count": 3,
     "metadata": {},
     "output_type": "execute_result"
    }
   ],
   "source": [
    "df.describe()"
   ]
  },
  {
   "cell_type": "code",
   "execution_count": 4,
   "metadata": {},
   "outputs": [
    {
     "data": {
      "text/plain": [
       "timestamp     6461328\n",
       "back_x        6461328\n",
       "back_y        6461328\n",
       "back_z        6461328\n",
       "thigh_x       6461328\n",
       "thigh_y       6461328\n",
       "thigh_z       6461328\n",
       "label         6461328\n",
       "index          720639\n",
       "Unnamed: 0     137646\n",
       "dtype: int64"
      ]
     },
     "execution_count": 4,
     "metadata": {},
     "output_type": "execute_result"
    }
   ],
   "source": [
    "df.count()"
   ]
  },
  {
   "cell_type": "markdown",
   "metadata": {},
   "source": [
    "Τρέχοντας τα παρατηρούμε ότι δύο στήλες το έχουν πλήθος δεδομένων μιας τάξης μικρότερο απο τις υπολοιπές οπότε τις ξεσκαρτάρουμε χρησιμοποιώντας την df.drop() και με την df.isna().sum() μετράμε πόσα απο τα δεδομένα στις υπόλοιπες στήλες είναι ΝΑ που θα προσέξουμε ότι είναι 0. Αυτό δεν σημαίνει απαραίτητα ότι όλα τα δεδομένα είναι καθαρά πλέον απλά πραγματοποιήσαμε ένα πρώτο καθαρισμό. Για αυτόν τον λόγο δημιουργούμε ένα νέο csv για να αποθηκεύσουμε το \"καθαρό\" μας dataframe τοπικά στον υπολογιστή μας."
   ]
  },
  {
   "cell_type": "code",
   "execution_count": 5,
   "metadata": {},
   "outputs": [],
   "source": [
    "df.drop(columns=['index', 'Unnamed: 0'], inplace=True)\n",
    "nan_counts = df.isna().sum()"
   ]
  },
  {
   "cell_type": "code",
   "execution_count": 6,
   "metadata": {},
   "outputs": [],
   "source": [
    "file_name = 'harth_cleaned.csv'\n",
    "df.to_csv(file_name, index=False)"
   ]
  },
  {
   "cell_type": "markdown",
   "metadata": {},
   "source": [
    "Τωρα εξετάζουμε για άλλες μορφες \"κακων\" δεδομένων όπως π.χ. τι ποσοστο κατέχει το κάθε label. Για υπενθύμιση τα labels σημαινουν : \n",
    "1: walking\t\n",
    "2: running\t\n",
    "3: shuffling\n",
    "4: stairs (ascending)\t\n",
    "5: stairs (descending)\t\n",
    "6: standing\t\n",
    "7: sitting\t\n",
    "8: lying\t\n",
    "13: cycling (sit)\t\n",
    "14: cycling (stand)\t\n",
    "130: cycling (sit, inactive)\n",
    "140: cycling (stand, inactive)"
   ]
  },
  {
   "cell_type": "code",
   "execution_count": null,
   "metadata": {},
   "outputs": [
    {
     "data": {
      "image/png": "[encoded data removed]",
      "text/plain": [
       "<Figure size 640x480 with 1 Axes>"
      ]
     },
     "metadata": {},
     "output_type": "display_data"
    },
    {
     "data": {
      "image/png": "[encoded data removed]",
      "text/plain": [
       "<Figure size 640x480 with 1 Axes>"
      ]
     },
     "metadata": {},
     "output_type": "display_data"
    }
   ],
   "source": [
    "df['label'].value_counts(normalize=True).plot(kind='bar')\n",
    "plt.title('Percentage of each class')\n",
    "plt.xlabel('Label')\n",
    "plt.ylabel('Percentage')\n",
    "plt.show()\n",
    "#plot me for each hour of the \"timestamp\" column the count for each label normilized as a percentage of that hour\n",
    "df['timestamp'] = pd.to_datetime(df['timestamp'])\n",
    "df['hour'] = df['timestamp'].dt.hour\n",
    "df.groupby(['hour', 'label']).size().unstack().plot(kind='bar', stacked=True)\n",
    "plt.title('Percentage of each class for each hour')\n",
    "plt.xlabel('Hour')\n",
    "plt.ylabel('Percentage')\n",
    "plt.show()"
   ]
  },
  {
   "cell_type": "markdown",
   "metadata": {},
   "source": [
    "Πααρατηρούμε εδώ ότι οι ώρες παρουσιάζουν μια ασυνέχεια και μερικές τιμές ξεκινάνε απο 13. Για αυτόν τον λόγο στο συγκεκριμένο subject θα αφαιρέσω 13 ώρες απο την τιμή του για να το συγχρωνήσω με τα υπόλοιπα subjects."
   ]
  },
  {
   "cell_type": "code",
   "execution_count": null,
   "metadata": {},
   "outputs": [],
   "source": [
    "df['timestamp'] = pd.to_datetime(df['timestamp'])\n",
    "\n",
    "cutoff_time = pd.to_datetime('13:00:00').time()\n",
    "\n",
    "df.loc[df['timestamp'].dt.time > cutoff_time, 'timestamp'] -= pd.Timedelta(hours=13)"
   ]
  },
  {
   "cell_type": "code",
   "execution_count": null,
   "metadata": {},
   "outputs": [
    {
     "data": {
      "image/png": "[encoded data removed]",
      "text/plain": [
       "<Figure size 640x480 with 1 Axes>"
      ]
     },
     "metadata": {},
     "output_type": "display_data"
    },
    {
     "data": {
      "image/png": "[encoded data removed]",
      "text/plain": [
       "<Figure size 640x480 with 1 Axes>"
      ]
     },
     "metadata": {},
     "output_type": "display_data"
    }
   ],
   "source": [
    "df['label'].value_counts(normalize=True).plot(kind='bar')\n",
    "plt.title('Percentage of each class')\n",
    "plt.xlabel('Label')\n",
    "plt.ylabel('Percentage')\n",
    "plt.show()\n",
    "#plot me for each hour of the \"timestamp\" column the count for each label normilized as a percentage of that hour\n",
    "df['timestamp'] = pd.to_datetime(df['timestamp'])\n",
    "df['hour'] = df['timestamp'].dt.hour\n",
    "df.groupby(['hour', 'label']).size().unstack().plot(kind='bar', stacked=True)\n",
    "plt.title('Percentage of each class for each hour')\n",
    "plt.xlabel('Hour')\n",
    "plt.ylabel('Percentage')\n",
    "plt.show()\n",
    "#drop the \"hour\" column\n",
    "df.drop(columns=['hour'], inplace=True)"
   ]
  },
  {
   "cell_type": "code",
   "execution_count": null,
   "metadata": {},
   "outputs": [],
   "source": [
    "for tempdf in df_list:\n",
    "    tempdf['timestamp'] = pd.to_datetime(tempdf['timestamp'])\n",
    "    tempdf.loc[tempdf['timestamp'].dt.time > cutoff_time, 'timestamp'] -= pd.Timedelta(hours=13)"
   ]
  },
  {
   "cell_type": "markdown",
   "metadata": {},
   "source": [
    "Κοιτώντας το correlation παρατηρούμε ότι δεν υπάρχει καμία ακραία τιμή. Οι μεγαλύτερες είναι οι back_x/thigh_x και thigh_x/thigh_z οι οποιές δεν είναι και ιδιαίτερα μεγάλες."
   ]
  },
  {
   "cell_type": "code",
   "execution_count": null,
   "metadata": {},
   "outputs": [
    {
     "data": {
      "text/html": [
       "<div>\n",
       "<style scoped>\n",
       "    .dataframe tbody tr th:only-of-type {\n",
       "        vertical-align: middle;\n",
       "    }\n",
       "\n",
       "    .dataframe tbody tr th {\n",
       "        vertical-align: top;\n",
       "    }\n",
       "\n",
       "    .dataframe thead th {\n",
       "        text-align: right;\n",
       "    }\n",
       "</style>\n",
       "<table border=\"1\" class=\"dataframe\">\n",
       "  <thead>\n",
       "    <tr style=\"text-align: right;\">\n",
       "      <th></th>\n",
       "      <th>back_x</th>\n",
       "      <th>back_y</th>\n",
       "      <th>back_z</th>\n",
       "      <th>thigh_x</th>\n",
       "      <th>thigh_y</th>\n",
       "      <th>thigh_z</th>\n",
       "    </tr>\n",
       "  </thead>\n",
       "  <tbody>\n",
       "    <tr>\n",
       "      <th>back_x</th>\n",
       "      <td>1.000000</td>\n",
       "      <td>0.014058</td>\n",
       "      <td>-0.103727</td>\n",
       "      <td>0.435847</td>\n",
       "      <td>0.052864</td>\n",
       "      <td>-0.043389</td>\n",
       "    </tr>\n",
       "    <tr>\n",
       "      <th>back_y</th>\n",
       "      <td>0.014058</td>\n",
       "      <td>1.000000</td>\n",
       "      <td>0.027343</td>\n",
       "      <td>0.002271</td>\n",
       "      <td>-0.187453</td>\n",
       "      <td>0.017320</td>\n",
       "    </tr>\n",
       "    <tr>\n",
       "      <th>back_z</th>\n",
       "      <td>-0.103727</td>\n",
       "      <td>0.027343</td>\n",
       "      <td>1.000000</td>\n",
       "      <td>-0.105903</td>\n",
       "      <td>0.027760</td>\n",
       "      <td>-0.165214</td>\n",
       "    </tr>\n",
       "    <tr>\n",
       "      <th>thigh_x</th>\n",
       "      <td>0.435847</td>\n",
       "      <td>0.002271</td>\n",
       "      <td>-0.105903</td>\n",
       "      <td>1.000000</td>\n",
       "      <td>0.159553</td>\n",
       "      <td>0.429772</td>\n",
       "    </tr>\n",
       "    <tr>\n",
       "      <th>thigh_y</th>\n",
       "      <td>0.052864</td>\n",
       "      <td>-0.187453</td>\n",
       "      <td>0.027760</td>\n",
       "      <td>0.159553</td>\n",
       "      <td>1.000000</td>\n",
       "      <td>0.149124</td>\n",
       "    </tr>\n",
       "    <tr>\n",
       "      <th>thigh_z</th>\n",
       "      <td>-0.043389</td>\n",
       "      <td>0.017320</td>\n",
       "      <td>-0.165214</td>\n",
       "      <td>0.429772</td>\n",
       "      <td>0.149124</td>\n",
       "      <td>1.000000</td>\n",
       "    </tr>\n",
       "  </tbody>\n",
       "</table>\n",
       "</div>"
      ],
      "text/plain": [
       "           back_x    back_y    back_z   thigh_x   thigh_y   thigh_z\n",
       "back_x   1.000000  0.014058 -0.103727  0.435847  0.052864 -0.043389\n",
       "back_y   0.014058  1.000000  0.027343  0.002271 -0.187453  0.017320\n",
       "back_z  -0.103727  0.027343  1.000000 -0.105903  0.027760 -0.165214\n",
       "thigh_x  0.435847  0.002271 -0.105903  1.000000  0.159553  0.429772\n",
       "thigh_y  0.052864 -0.187453  0.027760  0.159553  1.000000  0.149124\n",
       "thigh_z -0.043389  0.017320 -0.165214  0.429772  0.149124  1.000000"
      ]
     },
     "execution_count": 71,
     "metadata": {},
     "output_type": "execute_result"
    }
   ],
   "source": [
    "tempdf = df.drop(columns=['timestamp','label'])\n",
    "tempdf.corr()"
   ]
  },
  {
   "cell_type": "markdown",
   "metadata": {},
   "source": [
    "Χωρίζουμε τα δεδομένα μας σε training data & test data ωστε να μπορέσουμε να υπολογίσουμε στατιστικα μεγέθη χωρίς να υπάρχει κίνδυνος για leakage."
   ]
  },
  {
   "cell_type": "code",
   "execution_count": null,
   "metadata": {},
   "outputs": [],
   "source": [
    "train_df, test_df = train_test_split(df, test_size=0.2, random_state=42, stratify=df['label'])"
   ]
  },
  {
   "cell_type": "code",
   "execution_count": null,
   "metadata": {},
   "outputs": [
    {
     "name": "stdout",
     "output_type": "stream",
     "text": [
      "         back_x    back_y    back_z   thigh_x   thigh_y   thigh_z\n",
      "label                                                            \n",
      "1     -0.992579 -0.038823 -0.137832 -1.056772 -0.023669 -0.074534\n",
      "2     -0.965023 -0.076435 -0.260119 -1.247031 -0.163706 -0.142771\n",
      "3     -0.982419 -0.022123 -0.031324 -0.974453  0.020808 -0.067866\n",
      "4     -0.960396 -0.033434 -0.064641 -1.016216  0.013374 -0.005192\n",
      "5     -0.996425 -0.034357 -0.082388 -1.041728 -0.000104 -0.027013\n",
      "6     -0.985737 -0.000291 -0.046284 -0.962619  0.017702 -0.122135\n",
      "7     -0.919756  0.016039 -0.234691 -0.220881  0.062547  0.900047\n",
      "8     -0.027695 -0.050257 -0.141218 -0.040161  0.046897  0.128213\n",
      "13    -0.900172 -0.054796 -0.097916 -0.876715 -0.014312  0.009415\n",
      "14    -0.823008 -0.108122 -0.260972 -1.038350 -0.071128 -0.070486\n",
      "130   -0.856730 -0.055172 -0.043505 -0.851832 -0.002750 -0.090494\n",
      "140   -0.901573 -0.136479 -0.451420 -0.888173 -0.071084 -0.057507\n",
      "         back_x    back_y    back_z   thigh_x   thigh_y   thigh_z\n",
      "label                                                            \n",
      "1      0.311208  0.190422  0.287779  0.640195  0.537062  0.721012\n",
      "2      1.114857  0.407763  0.452137  1.438549  0.897683  1.378908\n",
      "3      0.105654  0.158074  0.207968  0.191597  0.226369  0.294012\n",
      "4      0.267736  0.169647  0.337094  0.496395  0.308799  0.456758\n",
      "5      0.378795  0.210293  0.249000  0.531271  0.460194  0.625724\n",
      "6      0.068973  0.103453  0.190316  0.108320  0.124450  0.233683\n",
      "7      0.132365  0.087732  0.314405  0.198424  0.164542  0.282735\n",
      "8      0.130083  0.670199  0.675186  0.183520  0.710703  0.690067\n",
      "13     0.169081  0.132194  0.494687  0.529637  0.268677  0.834635\n",
      "14     0.321901  0.285235  0.599948  0.524783  0.290406  0.477898\n",
      "130    0.145858  0.115184  0.565783  0.285449  0.177984  0.592069\n",
      "140    0.112406  0.134703  0.275829  0.215277  0.132151  0.529246\n",
      "         back_x    back_y    back_z   thigh_x   thigh_y   thigh_z\n",
      "label                                                            \n",
      "1      0.096851  0.036261  0.082817  0.409850  0.288435  0.519859\n",
      "2      1.242905  0.166270  0.204428  2.069423  0.805834  1.901388\n",
      "3      0.011163  0.024988  0.043251  0.036709  0.051243  0.086443\n",
      "4      0.071683  0.028780  0.113632  0.246408  0.095357  0.208628\n",
      "5      0.143485  0.044223  0.062001  0.282249  0.211779  0.391531\n",
      "6      0.004757  0.010703  0.036220  0.011733  0.015488  0.054608\n",
      "7      0.017521  0.007697  0.098850  0.039372  0.027074  0.079939\n",
      "8      0.016922  0.449167  0.455876  0.033680  0.505099  0.476193\n",
      "13     0.028588  0.017475  0.244715  0.280516  0.072187  0.696616\n",
      "14     0.103620  0.081359  0.359937  0.275397  0.084336  0.228386\n",
      "130    0.021275  0.013267  0.320111  0.081481  0.031678  0.350545\n",
      "140    0.012635  0.018145  0.076081  0.046344  0.017464  0.280101\n"
     ]
    }
   ],
   "source": [
    "tempdf = train_df.drop(columns=['timestamp'])\n",
    "means = tempdf.groupby(['label']).mean()\n",
    "stds = tempdf.groupby(['label']).std()\n",
    "vars = tempdf.groupby(['label']).var()"
   ]
  },
  {
   "cell_type": "code",
   "execution_count": null,
   "metadata": {},
   "outputs": [
    {
     "ename": "NameError",
     "evalue": "name 'train_stats' is not defined",
     "output_type": "error",
     "traceback": [
      "\u001b[1;31m---------------------------------------------------------------------------\u001b[0m",
      "\u001b[1;31mNameError\u001b[0m                                 Traceback (most recent call last)",
      "Cell \u001b[1;32mIn[89], line 1\u001b[0m\n\u001b[1;32m----> 1\u001b[0m train_df \u001b[39m=\u001b[39m train_df\u001b[39m.\u001b[39mmerge(train_stats, on\u001b[39m=\u001b[39m\u001b[39m'\u001b[39m\u001b[39mlabel\u001b[39m\u001b[39m'\u001b[39m, suffixes\u001b[39m=\u001b[39m(\u001b[39m'\u001b[39m\u001b[39m'\u001b[39m, \u001b[39m'\u001b[39m\u001b[39m_label\u001b[39m\u001b[39m'\u001b[39m))\n\u001b[0;32m      2\u001b[0m features \u001b[39m=\u001b[39m [col \u001b[39mfor\u001b[39;00m col \u001b[39min\u001b[39;00m train_df\u001b[39m.\u001b[39mcolumns \u001b[39mif\u001b[39;00m col \u001b[39mnot\u001b[39;00m \u001b[39min\u001b[39;00m [\u001b[39m'\u001b[39m\u001b[39mtimestamp\u001b[39m\u001b[39m'\u001b[39m, \u001b[39m'\u001b[39m\u001b[39mlabel\u001b[39m\u001b[39m'\u001b[39m]]\n\u001b[0;32m      3\u001b[0m X_train \u001b[39m=\u001b[39m train_df[features]\n",
      "\u001b[1;31mNameError\u001b[0m: name 'train_stats' is not defined"
     ]
    }
   ],
   "source": [
    "features = [col for col in train_df.columns if col not in ['timestamp', 'label']]\n",
    "X_train = train_df[features]\n",
    "y_train = train_df['label']\n",
    "\n",
    "rf = RandomForestClassifier(n_estimators=100, random_state=42)\n",
    "rf.fit(X_train, y_train)"
   ]
  }
 ],
 "metadata": {
  "kernelspec": {
   "display_name": "Python 3",
   "language": "python",
   "name": "python3"
  },
  "language_info": {
   "codemirror_mode": {
    "name": "ipython",
    "version": 3
   },
   "file_extension": ".py",
   "mimetype": "text/x-python",
   "name": "python",
   "nbconvert_exporter": "python",
   "pygments_lexer": "ipython3",
   "version": "undefined.undefined.undefined"
  }
 },
 "nbformat": 4,
 "nbformat_minor": 2
}
